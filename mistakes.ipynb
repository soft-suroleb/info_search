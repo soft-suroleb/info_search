{
 "cells": [
  {
   "cell_type": "code",
   "execution_count": 14,
   "id": "400c9fb8",
   "metadata": {
    "scrolled": true
   },
   "outputs": [],
   "source": [
    "from Levenshtein import distance\n",
    "from collections import Counter\n",
    "from nltk import bigrams\n",
    "from tqdm import tqdm\n",
    "from math import log2\n",
    "from razdel import tokenize\n",
    "from itertools import product\n",
    "from math import log, exp\n",
    "import string\n",
    "import operator\n",
    "import re"
   ]
  },
  {
   "cell_type": "code",
   "execution_count": 2,
   "id": "6fe705bb",
   "metadata": {},
   "outputs": [],
   "source": [
    "class Rating:\n",
    "    def __init__(self, l=[], size=5):\n",
    "        self.size = size\n",
    "        self.r = sorted(l, key=lambda x: x[1], reverse=True)\n",
    "        self.is_change = True\n",
    "        if len(self.r) > self.size:\n",
    "            self.r = self.r[len(self.r) - self.size:]\n",
    "        \n",
    "    def push(self, item):\n",
    "        for i, elem in enumerate(self.r):\n",
    "            if item == elem:\n",
    "                return\n",
    "            if item[1] > elem[1]:\n",
    "                if i != 0:\n",
    "                    self.is_change = True\n",
    "                    self.r.insert(i, item)\n",
    "                    if len(self.r) > self.size:\n",
    "                        del self.r[i - 1]\n",
    "                elif len(self.r) < self.size:\n",
    "                    self.is_change = True\n",
    "                    self.r.insert(0, item)\n",
    "                return\n",
    "        self.is_change = True\n",
    "        self.r.append(item)\n",
    "        if len(self.r) > self.size:\n",
    "            del self.r[0]\n",
    "    \n",
    "    def show(self):\n",
    "        for item in list(reversed(self.r)):\n",
    "            print(item[0], item[1])"
   ]
  },
  {
   "cell_type": "code",
   "execution_count": 3,
   "id": "586d600b",
   "metadata": {},
   "outputs": [],
   "source": [
    "with open('lenta_words.txt', 'r', encoding='utf-8') as file:\n",
    "    text = file.read().lower().split('\\n')"
   ]
  },
  {
   "cell_type": "code",
   "execution_count": 4,
   "id": "a4074683",
   "metadata": {},
   "outputs": [],
   "source": [
    "class Tree:\n",
    "    def __init__(self, key=None, is_word=False, prev=None):\n",
    "        self.letters = {}\n",
    "        self.key = key\n",
    "        self.is_word = is_word\n",
    "        self.amount = 0\n",
    "    \n",
    "    def __getitem__(self, key):\n",
    "        return self.letters[key]\n",
    "    \n",
    "    def __setitem__(self, key, value):\n",
    "        self.letters[key] = value"
   ]
  },
  {
   "cell_type": "code",
   "execution_count": 5,
   "id": "d9b22bfe",
   "metadata": {},
   "outputs": [],
   "source": [
    "def word_insert(word, tree):\n",
    "    supp = tree\n",
    "    prefix_count = 0\n",
    "    for let in word:\n",
    "        if not re.findall(r'[a-zA-Zа-яА-ЯёЁ]', let):\n",
    "            continue\n",
    "        if let not in supp.letters:\n",
    "            supp[let] = Tree(let, False, supp)\n",
    "        supp = supp[let]\n",
    "    supp.amount += 1\n",
    "    tree.amount += 1\n",
    "    supp.is_word = True"
   ]
  },
  {
   "cell_type": "code",
   "execution_count": 6,
   "id": "c5675d1f",
   "metadata": {
    "scrolled": false
   },
   "outputs": [
    {
     "name": "stderr",
     "output_type": "stream",
     "text": [
      "100%|██████████| 19232114/19232114 [02:17<00:00, 139915.45it/s]\n"
     ]
    }
   ],
   "source": [
    "tree = Tree()\n",
    "for i in tqdm(text):\n",
    "    word_insert(i, tree) "
   ]
  },
  {
   "cell_type": "code",
   "execution_count": 7,
   "id": "cd41af58",
   "metadata": {},
   "outputs": [],
   "source": [
    "def find_word(word, tree):\n",
    "    supp = tree\n",
    "    for i in word:\n",
    "        supp = supp[i]\n",
    "    return supp"
   ]
  },
  {
   "cell_type": "code",
   "execution_count": 62,
   "id": "39d4a198",
   "metadata": {},
   "outputs": [],
   "source": [
    "def weight(word_true, word_current, freq=1, alpha1=0, alpha2=10):\n",
    "    return -alpha1 * log2(freq) - log2(alpha2 ** (-distance(word_true, word_current)))"
   ]
  },
  {
   "cell_type": "code",
   "execution_count": 66,
   "id": "c6c519b1",
   "metadata": {},
   "outputs": [],
   "source": [
    "def find_true_word(word, tree, rating_size=5):\n",
    "    result = [('', 0, tree, 0)]\n",
    "    rating = Rating(size=rating_size)\n",
    "    while rating.is_change:\n",
    "        prefixes = set()\n",
    "        for i in result:\n",
    "            supp = i[2]\n",
    "            for let in supp.letters:\n",
    "                cur_prefix = i[0] + word[i[3]] if i[3] < len(word) else i[0]\n",
    "                w = weight(i[0] + let, cur_prefix)\n",
    "                if w + i[1] < 10 and i[3] - len(i[0]) < 3:\n",
    "                    prefixes.add((i[0] + let, w + i[1], supp[let], i[3] + 2))\n",
    "                    prefixes.add((i[0] + let, w + i[1],  supp[let], i[3] + 1))\n",
    "                    prefixes.add((i[0] + let, w + i[1], supp[let], i[3]))\n",
    "        result = sorted(list(prefixes), key=operator.itemgetter(1))[:500]\n",
    "        rating.is_change = False\n",
    "        for item in result:\n",
    "            if item[2].is_word:\n",
    "                rating.push((item[0], weight(item[0], word, item[2].amount / tree.amount, alpha1=0.2)))\n",
    "    return list(reversed(rating.r))"
   ]
  },
  {
   "cell_type": "code",
   "execution_count": 67,
   "id": "f903dfa2",
   "metadata": {},
   "outputs": [],
   "source": [
    "bigrams_amount = len(list(bigrams(text)))\n",
    "bigrams_count = Counter((bigrams(text)))\n",
    "words_count = Counter(text)"
   ]
  },
  {
   "cell_type": "code",
   "execution_count": 172,
   "id": "4cbfaad7",
   "metadata": {},
   "outputs": [],
   "source": [
    "def prob_sent(request):\n",
    "    words = [item.text.lower() for item in tokenize(request) if item.text not in string.punctuation]\n",
    "    bigr = list(bigrams(words))\n",
    "    v = len(text)\n",
    "    p = 1\n",
    "    for i in bigr:\n",
    "        p *= (bigrams_count[i] + 1) / (words_count[i[0]] + v)\n",
    "    return p"
   ]
  },
  {
   "cell_type": "code",
   "execution_count": 169,
   "id": "e3a04b80",
   "metadata": {},
   "outputs": [],
   "source": [
    "request = 'путн оцинил роботу новвых самалетав и виртолтов в сирийи'"
   ]
  },
  {
   "cell_type": "code",
   "execution_count": 170,
   "id": "40373e7d",
   "metadata": {},
   "outputs": [],
   "source": [
    "result = []\n",
    "for word in request.lower().split(' '):\n",
    "    result.append(find_true_word(word, tree, rating_size=200)[:3])"
   ]
  },
  {
   "cell_type": "code",
   "execution_count": 173,
   "id": "9894d7ea",
   "metadata": {},
   "outputs": [
    {
     "data": {
      "text/plain": [
       "[[('путин', 5.680382706507288),\n",
       "  ('пути', 6.036149768929111),\n",
       "  ('путь', 6.193959314988637)],\n",
       " [('оценил', 6.42193981865721),\n",
       "  ('оценили', 9.688196097554579),\n",
       "  ('оценила', 10.087109320344453)],\n",
       " [('роботу', 4.072931498548263),\n",
       "  ('работу', 5.715310407795874),\n",
       "  ('робота', 6.6199657698523975)],\n",
       " [('новых', 5.777154942112299),\n",
       "  ('новый', 8.97124896874595),\n",
       "  ('новые', 9.09774345214872)],\n",
       " [('самолета', 9.188497749909462),\n",
       "  ('самолетов', 9.223375276370653),\n",
       "  ('самолетах', 9.912018339932114)],\n",
       " [('и', 1.130388844140091),\n",
       "  ('в', 4.2338613068869115),\n",
       "  ('с', 4.664363788300127)],\n",
       " [('вертолетов', 9.531587804611743),\n",
       "  ('вертолётов', 11.29816580744469),\n",
       "  ('вертолетом', 13.531505203162308)],\n",
       " [('в', 0.9119332119995489),\n",
       "  ('и', 4.452316939027453),\n",
       "  ('с', 4.664363788300127)],\n",
       " [('сирии', 5.961141882659725),\n",
       "  ('серии', 9.220132016204655),\n",
       "  ('сибири', 9.843873201863815)]]"
      ]
     },
     "execution_count": 173,
     "metadata": {},
     "output_type": "execute_result"
    }
   ],
   "source": [
    "result"
   ]
  },
  {
   "cell_type": "code",
   "execution_count": 171,
   "id": "87ab4a18",
   "metadata": {},
   "outputs": [
    {
     "name": "stderr",
     "output_type": "stream",
     "text": [
      "100%|██████████| 19683/19683 [00:00<00:00, 19755.94it/s]"
     ]
    },
    {
     "name": "stdout",
     "output_type": "stream",
     "text": [
      "путин оценил работу новых самолетов и вертолетов в сирии\n"
     ]
    },
    {
     "name": "stderr",
     "output_type": "stream",
     "text": [
      "\n"
     ]
    }
   ],
   "source": [
    "probs_d = {}\n",
    "for sent in tqdm(list(product(*result))):\n",
    "    words = ' '.join([s[0] for s in sent])\n",
    "    probs_d[words] = prob_sent(words)\n",
    "print(max(probs_d, key=probs_d.get))"
   ]
  }
 ],
 "metadata": {
  "kernelspec": {
   "display_name": "Python 3 (ipykernel)",
   "language": "python",
   "name": "python3"
  },
  "language_info": {
   "codemirror_mode": {
    "name": "ipython",
    "version": 3
   },
   "file_extension": ".py",
   "mimetype": "text/x-python",
   "name": "python",
   "nbconvert_exporter": "python",
   "pygments_lexer": "ipython3",
   "version": "3.9.7"
  }
 },
 "nbformat": 4,
 "nbformat_minor": 5
}
