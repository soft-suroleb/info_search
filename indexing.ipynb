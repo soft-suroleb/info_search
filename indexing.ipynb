{
 "cells": [
  {
   "cell_type": "code",
   "execution_count": 1,
   "id": "392ebaa0",
   "metadata": {},
   "outputs": [],
   "source": [
    "from math import log\n",
    "from tqdm import tqdm"
   ]
  },
  {
   "cell_type": "code",
   "execution_count": 2,
   "id": "cf4f92ef",
   "metadata": {},
   "outputs": [],
   "source": [
    "class Tree:\n",
    "    def __init__(self):\n",
    "        self.value = None\n",
    "        self.left = None\n",
    "        self.right = None\n",
    "        self.mask = None\n",
    "        self.sum = 0\n",
    "        self.left_num = None\n",
    "        self.right_num = None"
   ]
  },
  {
   "cell_type": "code",
   "execution_count": 3,
   "id": "a878780d",
   "metadata": {},
   "outputs": [],
   "source": [
    "def parse(s, tree, index):\n",
    "    temp = ''\n",
    "    balance = 0\n",
    "    for i, letter in enumerate(s):\n",
    "        if letter == '(':\n",
    "            balance += 1\n",
    "        if letter == ')':\n",
    "            balance -= 1\n",
    "        if balance > 0 or (balance == 0 and letter == ')'):\n",
    "            temp += ' '\n",
    "        else:\n",
    "            temp += letter\n",
    "    if temp == ' ' * len(temp):\n",
    "        s = s[1:-1]\n",
    "        temp = temp[1:-1]\n",
    "        temp = s\n",
    "\n",
    "    umper = temp.find('&')\n",
    "    stick = temp.find('|')\n",
    "    if stick + umper == -2:\n",
    "        tree.value = index[stemmer.stem(s.lower())]\n",
    "        return\n",
    "\n",
    "    tree.left = Tree()\n",
    "    tree.left.parent = tree\n",
    "    tree.right = Tree()\n",
    "    tree.right.parent = tree\n",
    "    if stick != -1:  \n",
    "        left_s = s[:stick].strip()\n",
    "        right_s = s[stick + 1:].strip()\n",
    "        tree.value = '|'\n",
    "    else:\n",
    "        left_s = s[:umper].strip()\n",
    "        right_s = s[umper + 1:].strip()\n",
    "        tree.value = '&'\n",
    "\n",
    "    parse(left_s, tree.left, index)\n",
    "    parse(right_s, tree.right, index)"
   ]
  },
  {
   "cell_type": "code",
   "execution_count": 4,
   "id": "d34405be",
   "metadata": {},
   "outputs": [],
   "source": [
    "def count_docs_sets(tree):\n",
    "    if tree.left is None or tree.right is None:\n",
    "        return set(tree.value)\n",
    "    docs_left = count_docs_sets(tree.left)\n",
    "    docs_right = count_docs_sets(tree.right)\n",
    "    if tree.value == '&':\n",
    "        return docs_left & docs_right\n",
    "    else:\n",
    "        return docs_left | docs_right"
   ]
  },
  {
   "cell_type": "code",
   "execution_count": 5,
   "id": "a724eb1d",
   "metadata": {},
   "outputs": [],
   "source": [
    "def count_docs_qtree(tree):\n",
    "    def supp(tree):\n",
    "        if tree.left is None or tree.right is None:\n",
    "            if tree.mask is None:\n",
    "                tree.mask = 1 << (int(log(tree.value, 2)) - 1)\n",
    "            elif tree.mask == 0:\n",
    "                return\n",
    "            tree.mask, num = take_num(tree.mask, tree.value)\n",
    "            tree.sum += num\n",
    "            return tree.sum  \n",
    "            \n",
    "        if tree.left_num is None:\n",
    "            tree.left_num = supp(tree.left)\n",
    "        if tree.right_num is None:\n",
    "            tree.right_num = supp(tree.right)\n",
    "        if tree.value == '&':\n",
    "            while tree.left_num != tree.right_num:\n",
    "                if tree.left_num is None or tree.right_num is None:\n",
    "                    return\n",
    "                if tree.left_num < tree.right_num:\n",
    "                    tree.left_num = supp(tree.left)\n",
    "                else:\n",
    "                    tree.right_num = supp(tree.right)\n",
    "            result = tree.left_num\n",
    "            tree.left_num = None\n",
    "            tree.right_num = None\n",
    "            return result\n",
    "        else:\n",
    "            if tree.left_num is None and tree.right_num is None:\n",
    "                return\n",
    "            elif tree.left_num is None:\n",
    "                result = tree.right_num\n",
    "                tree.right_num = None\n",
    "                return result\n",
    "            elif tree.right_num is None:\n",
    "                result = tree.left_num\n",
    "                tree.left_num = None\n",
    "                return result\n",
    "            elif tree.left_num < tree.right_num:\n",
    "                result = tree.left_num\n",
    "                tree.left_num = None\n",
    "                return result\n",
    "            elif tree.left_num > tree.right_num:\n",
    "                result = tree.right_num\n",
    "                tree.right_num = None\n",
    "                return result\n",
    "            result = tree.left_num\n",
    "            tree.left_num = None\n",
    "            tree.right_num = None\n",
    "            return result\n",
    "    \n",
    "    \n",
    "    docs = []\n",
    "    new_doc = supp(tree)\n",
    "    while new_doc is not None:\n",
    "        docs.append(new_doc)\n",
    "        new_doc = supp(tree)\n",
    "    return docs"
   ]
  },
  {
   "cell_type": "code",
   "execution_count": 6,
   "id": "930c1d8e",
   "metadata": {},
   "outputs": [],
   "source": [
    "def index2jmp(index):\n",
    "    jmp_index = dict()\n",
    "    for key, item in index.items():\n",
    "        jmp_index[key] = [item[0]]\n",
    "        for i in range(1, len(item)):\n",
    "            jmp_index[key].append(item[i] - item[i - 1])\n",
    "    return jmp_index"
   ]
  },
  {
   "cell_type": "code",
   "execution_count": 7,
   "id": "31d1b5d8",
   "metadata": {},
   "outputs": [],
   "source": [
    "fibs = [0, 1]\n",
    "for _ in range(30):\n",
    "    fibs.append(fibs[-2] + fibs[-1])"
   ]
  },
  {
   "cell_type": "code",
   "execution_count": 8,
   "id": "3bb94663",
   "metadata": {},
   "outputs": [],
   "source": [
    "def num2fib(num):\n",
    "    i = len(fibs) - 1\n",
    "    r = 0\n",
    "    while num:\n",
    "        if fibs[i] <= num:\n",
    "            r |= 1 << (i - 2)\n",
    "            num -= fibs[i]\n",
    "        i -= 1\n",
    "    return r"
   ]
  },
  {
   "cell_type": "code",
   "execution_count": 9,
   "id": "31343519",
   "metadata": {},
   "outputs": [],
   "source": [
    "def fib_in_index(index, word, num):\n",
    "    fib_num = num2fib(num)\n",
    "    if word not in index:\n",
    "        index[word] = 1\n",
    "    while fib_num:\n",
    "        index[word] = (index[word] << 1) | (fib_num & 1)\n",
    "        fib_num >>= 1\n",
    "    index[word] = (index[word] << 1) | 1        "
   ]
  },
  {
   "cell_type": "code",
   "execution_count": 10,
   "id": "b0bd4e27",
   "metadata": {},
   "outputs": [],
   "source": [
    "def bin_inverse(num):\n",
    "    res = 0\n",
    "    while num != 1:\n",
    "        res |= num & 1\n",
    "        res <<= 1\n",
    "        num >>= 1\n",
    "    return res >> 1"
   ]
  },
  {
   "cell_type": "code",
   "execution_count": 11,
   "id": "136816c0",
   "metadata": {},
   "outputs": [],
   "source": [
    "def index2fib(index):\n",
    "    fInd = {}\n",
    "    for key, item in index.items():\n",
    "        for i in item:\n",
    "            fib_in_index(fInd, key, i)\n",
    "    return fInd"
   ]
  },
  {
   "cell_type": "code",
   "execution_count": 12,
   "id": "11348834",
   "metadata": {},
   "outputs": [],
   "source": [
    "def fib2num(num):\n",
    "    i = 2\n",
    "    res = 0\n",
    "    while num:\n",
    "        res += (num & 1) * fibs[i]\n",
    "        num >>= 1\n",
    "        i += 1\n",
    "    return res"
   ]
  },
  {
   "cell_type": "code",
   "execution_count": 13,
   "id": "6aa59c38",
   "metadata": {},
   "outputs": [],
   "source": [
    "def take_num(mask, value):\n",
    "    mb_end = False\n",
    "    fnum = 1\n",
    "    while True:\n",
    "        bit = mask & value\n",
    "        if bit != 0 and mb_end:\n",
    "            mask >>= 1\n",
    "            break\n",
    "        if bit != 0:\n",
    "            fnum = (fnum << 1) | 1\n",
    "            mb_end = True\n",
    "        else:\n",
    "            fnum <<= 1\n",
    "            mb_end = False\n",
    "        mask >>= 1\n",
    "    while fnum & 1 == 0:\n",
    "        fnum >>= 1\n",
    "    return mask, fib2num(bin_inverse(fnum))"
   ]
  },
  {
   "cell_type": "code",
   "execution_count": 15,
   "id": "919c7706",
   "metadata": {},
   "outputs": [],
   "source": [
    "import re\n",
    "import string\n",
    "from nltk.stem import SnowballStemmer"
   ]
  },
  {
   "cell_type": "code",
   "execution_count": 16,
   "id": "fd72acbc",
   "metadata": {},
   "outputs": [],
   "source": [
    "index_real = {}\n",
    "docs = []\n",
    "more_punct = '«»–—‒―⸺⸻—¿¡'\n",
    "stemmer = SnowballStemmer(\"russian\") \n",
    "STEMMER_CACHE = {}\n",
    "ind = 0"
   ]
  },
  {
   "cell_type": "code",
   "execution_count": 17,
   "id": "9e2217ec",
   "metadata": {},
   "outputs": [],
   "source": [
    "files = [\n",
    "    'lenta.ru_d1f7e910-b5f1-4719-b724-090093e143fe_01',\n",
    "    'lenta.ru_b6838708-1aa9-496f-bf88-e277374f93a8_01',\n",
    "    'lenta.ru_b81aa623-ba55-43dc-b3c5-47ae2253ad27_01',\n",
    "    'lenta.ru_aa5a1ef9-6ca4-4dc7-890f-308d4d62db59_01',\n",
    "    'lenta.ru_6398c7e2-16da-40d2-8923-95f65aaaeb07_01',\n",
    "    'lenta.ru_159b9f4b-972b-48b1-8ec3-44fbd6be33c4_01',\n",
    "    'lenta.ru_80e74243-83da-4367-8ae3-fe38d333f283_01',\n",
    "    'lenta.ru_4deb864d-3c46-45e6-85f4-a7ff7544a3fb_01'\n",
    "]"
   ]
  },
  {
   "cell_type": "code",
   "execution_count": 18,
   "id": "63e80d42",
   "metadata": {
    "scrolled": true
   },
   "outputs": [
    {
     "name": "stderr",
     "output_type": "stream",
     "text": [
      "13679it [00:03, 4276.39it/s]\n",
      "11358it [00:02, 4834.42it/s]\n",
      "11020it [00:03, 3632.47it/s]\n",
      "11470it [00:03, 3033.71it/s]\n",
      "11043it [00:04, 2479.54it/s]\n",
      "11966it [00:05, 2069.69it/s]\n",
      "12842it [00:07, 1783.45it/s]\n",
      "11348it [00:06, 1640.94it/s]\n"
     ]
    }
   ],
   "source": [
    "for f in files:\n",
    "    with open(f, 'rb') as file:\n",
    "        for line in tqdm(file):\n",
    "            try:\n",
    "                words = [item.lower() for item in re.findall(r'[а-яА-ЯёЁ]+', line.decode())\n",
    "                         if item not in string.punctuation + more_punct]\n",
    "                for word in words:\n",
    "                    word_hash = hash(word)\n",
    "                    if word_hash not in STEMMER_CACHE:\n",
    "                        STEMMER_CACHE[word_hash] = stemmer.stem(word)\n",
    "                    stem_word = STEMMER_CACHE[word_hash]\n",
    "                    if stem_word not in index_real:\n",
    "                        index_real[stem_word] = []\n",
    "                    if ind not in index_real[stem_word]:\n",
    "                        index_real[stem_word].append(ind)\n",
    "            except:\n",
    "                mb = re.findall(r'https?://.*/', str(line))\n",
    "                if mb:\n",
    "                    docs.append(mb[0])\n",
    "                    ind += 1"
   ]
  },
  {
   "cell_type": "code",
   "execution_count": 19,
   "id": "ded74f6c",
   "metadata": {},
   "outputs": [],
   "source": [
    "jmpfib = index2fib(index2jmp(index_real))"
   ]
  },
  {
   "cell_type": "code",
   "execution_count": 20,
   "id": "b626f899",
   "metadata": {},
   "outputs": [],
   "source": [
    "s = 'украина & сша & нато'"
   ]
  },
  {
   "cell_type": "code",
   "execution_count": 21,
   "id": "d75c991f",
   "metadata": {},
   "outputs": [],
   "source": [
    "tree = Tree()"
   ]
  },
  {
   "cell_type": "code",
   "execution_count": 22,
   "id": "b50ea821",
   "metadata": {},
   "outputs": [],
   "source": [
    "parse(s.strip(), tree, jmpfib)"
   ]
  },
  {
   "cell_type": "code",
   "execution_count": 20,
   "id": "1674353f",
   "metadata": {},
   "outputs": [],
   "source": [
    "ind = {\n",
    "    'putin': [1, 4, 6, 12, 67],\n",
    "    'medvedev': [2, 6, 12, 67, 123],\n",
    "    'makron': [7, 12, 45, 87],\n",
    "    'biden': [1, 6, 43, 45, 89]\n",
    "}"
   ]
  },
  {
   "cell_type": "code",
   "execution_count": 23,
   "id": "7127b5f6",
   "metadata": {
    "scrolled": true
   },
   "outputs": [
    {
     "data": {
      "text/plain": [
       "{'putin': 30264323,\n",
       " 'medvedev': 6294605315,\n",
       " 'makron': 180835859,\n",
       " 'biden': 476329619}"
      ]
     },
     "execution_count": 23,
     "metadata": {},
     "output_type": "execute_result"
    }
   ],
   "source": [
    "jmpfib = index2fib(index2jmp(ind))\n",
    "jmpfib"
   ]
  },
  {
   "cell_type": "code",
   "execution_count": 483,
   "id": "de8d3928",
   "metadata": {},
   "outputs": [],
   "source": [
    "import json"
   ]
  },
  {
   "cell_type": "code",
   "execution_count": 485,
   "id": "0e6ea43d",
   "metadata": {},
   "outputs": [],
   "source": [
    "with open('index_real.json') as file:\n",
    "    data = json.load(file)"
   ]
  }
 ],
 "metadata": {
  "kernelspec": {
   "display_name": "Python 3 (ipykernel)",
   "language": "python",
   "name": "python3"
  },
  "language_info": {
   "codemirror_mode": {
    "name": "ipython",
    "version": 3
   },
   "file_extension": ".py",
   "mimetype": "text/x-python",
   "name": "python",
   "nbconvert_exporter": "python",
   "pygments_lexer": "ipython3",
   "version": "3.9.7"
  }
 },
 "nbformat": 4,
 "nbformat_minor": 5
}
