{
 "cells": [
  {
   "cell_type": "code",
   "execution_count": 44,
   "metadata": {},
   "outputs": [],
   "source": [
    "from __future__ import division\n",
    "\n",
    "import base64\n",
    "import csv\n",
    "import gzip\n",
    "import zlib\n",
    "import numpy as np\n",
    "from tqdm import tqdm\n",
    "\n",
    "from collections import namedtuple\n",
    "\n",
    "%matplotlib inline\n",
    "import matplotlib.pyplot as plt"
   ]
  },
  {
   "cell_type": "code",
   "execution_count": 45,
   "metadata": {},
   "outputs": [],
   "source": [
    "TRACE_NUM = 1000\n",
    "import logging\n",
    "import importlib\n",
    "importlib.reload(logging)\n",
    "logging.basicConfig(format='%(asctime)s %(levelname)s:%(message)s', level=logging.INFO, datefmt='%H:%M:%S')\n",
    "\n",
    "def trace(items_num, trace_num=TRACE_NUM):\n",
    "    if items_num % trace_num == 0: logging.info(\"Complete items %05d\" % items_num)\n",
    "        \n",
    "def trace_worker(items_num, worker_id, trace_num=TRACE_NUM):\n",
    "    if items_num % trace_num == 0: logging.info(\"Complete items %05d in worker_id %d\" % (items_num, worker_id))"
   ]
  },
  {
   "cell_type": "markdown",
   "metadata": {},
   "source": [
    "### Извлечение текста из html"
   ]
  },
  {
   "cell_type": "markdown",
   "metadata": {},
   "source": [
    "#### Извлечение текста при помощи встроенных модулей"
   ]
  },
  {
   "cell_type": "code",
   "execution_count": 47,
   "metadata": {},
   "outputs": [],
   "source": [
    "from html.parser import HTMLParser\n",
    "import re\n",
    "\n",
    "###Извлечение текста из title можно вписать сюда\n",
    "\n",
    "class TextHTMLParser(HTMLParser):\n",
    "    def __init__(self):\n",
    "        HTMLParser.__init__(self)\n",
    "        self._text = []\n",
    "        self._title = \"\"\n",
    "        self._in_title = False\n",
    "\n",
    "    def handle_data(self, data):\n",
    "        text = data.strip()\n",
    "        if len(text) > 0:\n",
    "            text = re.sub('[ \\t\\r\\n]+', ' ', text)\n",
    "            self._text.append(text + ' ')\n",
    "\n",
    "    def handle_starttag(self, tag, attrs):\n",
    "        if tag == 'p':\n",
    "            self._text.append('\\n\\n')\n",
    "        elif tag == 'br':\n",
    "            self._text.append('\\n')\n",
    "        elif tag == 'title':\n",
    "            self._in_title = True\n",
    "\n",
    "    def handle_startendtag(self, tag, attrs):\n",
    "        if tag == 'br':\n",
    "            self._text.append('\\n\\n')\n",
    "\n",
    "    def text(self):\n",
    "        return ''.join(self._text).strip()\n",
    "\n",
    "def html2text_parser(text):\n",
    "    parser = TextHTMLParser()\n",
    "    parser.feed(text)\n",
    "    return parser.text()"
   ]
  },
  {
   "cell_type": "markdown",
   "metadata": {},
   "source": [
    "#### Извлечение текста при помощи дополнительных библиотек"
   ]
  },
  {
   "cell_type": "code",
   "execution_count": 48,
   "metadata": {},
   "outputs": [],
   "source": [
    "def html2text_bs(raw_html):\n",
    "    from bs4 import BeautifulSoup\n",
    "    \"\"\"\n",
    "    Тут производится извлечения из html текста\n",
    "    \"\"\"\n",
    "    soup = BeautifulSoup(raw_html, \"html.parser\")\n",
    "    [s.extract() for s in soup(['script', 'style'])]\n",
    "    return soup.get_text()\n",
    "\n",
    "def html2text_bs_visible(raw_html):\n",
    "    from bs4 import BeautifulSoup\n",
    "    \"\"\"\n",
    "    Тут производится извлечения из html текста, который видим пользователю\n",
    "    \"\"\"\n",
    "    soup = BeautifulSoup(raw_html, \"html.parser\")    \n",
    "    [s.extract() for s in soup(['style', 'script', '[document]', 'head', 'title'])]\n",
    "    return soup.get_text()\n",
    "\n",
    "def html2text_boilerpipe(raw_html):\n",
    "    import boilerpipe\n",
    "    \"\"\"\n",
    "    еще одна библиотека очень хорошо извлекающая именно видимый пользователю текст,\n",
    "    но она завязана на java\n",
    "    \"\"\"\n",
    "    pass"
   ]
  },
  {
   "cell_type": "markdown",
   "metadata": {},
   "source": [
    "#### Выбираем какой метод для конвертации html в текст будет основным"
   ]
  },
  {
   "cell_type": "code",
   "execution_count": 49,
   "metadata": {},
   "outputs": [],
   "source": [
    "#html2text = html2text_bs\n",
    "html2text = html2text_parser"
   ]
  },
  {
   "cell_type": "markdown",
   "metadata": {},
   "source": [
    "#### Методы для токенизации текста"
   ]
  },
  {
   "cell_type": "code",
   "execution_count": 50,
   "metadata": {},
   "outputs": [],
   "source": [
    "from nltk.corpus import stopwords\n",
    "from nltk.stem import SnowballStemmer\n",
    "stemmer = SnowballStemmer(\"russian\") \n",
    "\n",
    "\n",
    "def easy_tokenizer(text):\n",
    "    word = str()\n",
    "    for symbol in text:\n",
    "        if symbol.isalnum(): word += symbol\n",
    "        elif word:\n",
    "            yield word\n",
    "            word = str()\n",
    "    if word: yield word\n",
    "\n",
    "PYMORPHY_CACHE = {}\n",
    "STEMMER_CACHE = {}\n",
    "MORPH = None\n",
    "#hint, чтобы установка pymorphy2 не была бы обязательной\n",
    "def get_lemmatizer():\n",
    "    import pymorphy2\n",
    "    global MORPH\n",
    "    if MORPH is None: MORPH = pymorphy2.MorphAnalyzer()\n",
    "    return MORPH\n",
    "\n",
    "def pymorphy_tokenizer(text):\n",
    "    global PYMORPHY_CACHE\n",
    "    for word in easy_tokenizer(text):\n",
    "        word_hash = hash(word)\n",
    "        if word_hash not in PYMORPHY_CACHE:\n",
    "            PYMORPHY_CACHE[word_hash] = get_lemmatizer().parse(word)[0].normal_form            \n",
    "        yield PYMORPHY_CACHE[word_hash]\n",
    "        \n",
    "def stemmer_list(lst):\n",
    "    global STEMMER_CACHE\n",
    "    stop_words = stopwords.words('russian')\n",
    "    for word in lst:\n",
    "        if word in stop_words:\n",
    "            continue\n",
    "        word_hash = hash(word)\n",
    "        if word_hash not in STEMMER_CACHE:\n",
    "            STEMMER_CACHE[word_hash] = stemmer.stem(word.lower())\n",
    "        yield STEMMER_CACHE[word_hash]"
   ]
  },
  {
   "cell_type": "markdown",
   "metadata": {},
   "source": [
    "#### Основная функция, которая вызывается для преобразования html в список слов"
   ]
  },
  {
   "cell_type": "code",
   "execution_count": 51,
   "metadata": {},
   "outputs": [],
   "source": [
    "def html2word(raw_html, to_text=html2text, tokenizer=easy_tokenizer):\n",
    "    return tokenizer(to_text(raw_html).lower())"
   ]
  },
  {
   "cell_type": "markdown",
   "metadata": {},
   "source": [
    "#### Рассчет финальных метрик"
   ]
  },
  {
   "cell_type": "code",
   "execution_count": 52,
   "metadata": {},
   "outputs": [],
   "source": [
    "def safe_divide(a, b):\n",
    "    if a == 0: return 0.0\n",
    "    elif b == 0: return 0.0\n",
    "    else: return a/b\n",
    "\n",
    "def calculate_metrics(predictions, threshold):    \n",
    "    \"\"\"\n",
    "    Функция подсчета метрик\n",
    "    Параметры\n",
    "    predictions - ранки по документам\n",
    "    threshold  - порог для метрик\n",
    "    \"\"\"\n",
    "    true_positive = 0\n",
    "    false_positive = 0\n",
    "    true_negative = 0\n",
    "    false_negative = 0\n",
    "    for (url_id, mark, url, prediction) in predictions:        \n",
    "        mark_predict = prediction > threshold\n",
    "\n",
    "        if mark_predict:                     \n",
    "            if mark_predict == mark: true_positive += 1\n",
    "            else: false_positive += 1                    \n",
    "        else:                     \n",
    "            if  mark_predict == mark: true_negative += 1\n",
    "            else: false_negative += 1\n",
    "\n",
    "    class_prec  = safe_divide(true_positive, true_positive + false_positive)\n",
    "    class_recall = safe_divide(true_positive, true_positive + false_negative)\n",
    "        \n",
    "    class_F1 = safe_divide(2 * class_prec * class_recall, class_prec + class_recall)\n",
    "    \n",
    "    \n",
    "    not_class_prec = safe_divide(true_negative, true_negative + false_negative)\n",
    "    not_class_recall = safe_divide(true_negative, true_negative + false_positive)\n",
    "    \n",
    "    not_class_F1 = safe_divide(2 * not_class_prec * not_class_recall, not_class_prec + not_class_recall)\n",
    "    \n",
    "    return ( (class_prec, class_recall, class_F1), (not_class_prec, not_class_recall, not_class_F1) )\n",
    "\n",
    "def arange(start, stop, step):\n",
    "    cur_value = start\n",
    "    while True:\n",
    "        if cur_value > stop: break\n",
    "        yield cur_value\n",
    "        cur_value += step\n",
    "\n",
    "def plot_results(docs, min_threshold=-1, max_threshold=1, step=0.1, trace=False):\n",
    "    x = []\n",
    "    y_p = []\n",
    "    y_n = []\n",
    "    docs_predictions = classifier.predict_all(docs)\n",
    "    for threshold in arange(min_threshold, max_threshold, step):\n",
    "        r = calculate_metrics(docs_predictions, threshold)\n",
    "        x.append(threshold)\n",
    "        y_p.append(r[0])\n",
    "        y_n.append(r[1])        \n",
    "        if trace: \n",
    "            print('threshold %s' % threshold)\n",
    "            print('\\tclass_prec %s, class_recall %s, class_F1 %s' % r[0])\n",
    "            print('\\tnot_class_prec %s, not_class_recall %s, not_class_F1 %s' % r[1])\n",
    "            print('\\t\\tMacroF1Mesure %s' % ((r[0][2] + r[1][2])/2))\n",
    "    plot_stats(x, y_p, \"Class Result\")\n",
    "    plot_stats(x, y_n, \"Not class Result\")    \n",
    "\n",
    "\n",
    "def plot_stats(x, y, title):\n",
    "    plt.figure(figsize=(10, 5))\n",
    "\n",
    "    prec, = plt.plot( x, \n",
    "                     [k[0] for k in y], \"r\", label='Precision', \n",
    "                     linewidth=1)\n",
    "    accur, = plt.plot( x, \n",
    "                      [k[1] for k in y], \"b\", label='Recall',\n",
    "                      linewidth=1)\n",
    "    f1, =    plt.plot( x, \n",
    "                      [k[2] for k in y], \"g\", label='F1',\n",
    "                      linewidth=1)\n",
    "    plt.grid(True)\n",
    "    plt.legend(handles=[prec, accur, f1])\n",
    "    plt.title(title)\n",
    "    plt.show()"
   ]
  },
  {
   "cell_type": "code",
   "execution_count": 112,
   "metadata": {},
   "outputs": [],
   "source": [
    "banwords = [stemmer.stem(item) for item in\n",
    "    ['секс', 'сиська', 'сиска', 'грудь', 'сосок', 'киска', 'анус', 'проститутка',\n",
    "    'куртизанка', 'транс', 'порно', 'порнуха', 'порнушка', 'порево', 'скачать',\n",
    "    'девственность', 'целка', 'инцест', 'голый', 'пизда', 'писька', 'писка', 'шлюха',\n",
    "    'эротика', 'кунилингус', 'минет', 'лесбиянка', 'мастурбация', 'лезбеянка', 'страпон',\n",
    "    'клитор', 'ебать', 'онлайн', 'мамаша', 'милфа', 'трахать', 'отсасывать', 'член', 'жесткий',\n",
    "    'сосать', 'жопа', 'фетиш', 'онанизм', 'изнасилование', 'сучка', 'сука', 'кончить', 'сосочек',\n",
    "    'шлендра', 'бикса', 'торрент', 'разврат', 'порноролик', 'порнофильм', 'лезбиянка', 'порнофото',\n",
    "    'порнокартинка', 'насилие', 'ебля', 'регистрация', 'зарабатывать', 'заработок', 'эротический',\n",
    "    'сексуальный', 'сисястый', 'анал', 'анальный', 'порнозвезда', 'минетчица', 'страпонить', 'ебаный',\n",
    "    'хуй', 'пиздатый', 'хуевый', 'хуёвый', 'ёбаный', 'кончать', 'развратный', 'возбуждение', 'возбужденный',\n",
    "    'ёбля', 'ебля', 'ёбырь', 'дрочка', 'дрочить', 'оргазм', 'сквирт', 'сквиртить', 'бдсм', 'буккаке', 'букаке',\n",
    "    'проникновение', 'знакомство', 'знакомства', 'знакомиться', 'бесплатно', 'двойной', 'тройной', 'фистинг', 'бесплатный',\n",
    "    'порносайт', 'малолетка', 'школьница', 'потерять', 'купить', 'смс']\n",
    "]"
   ]
  },
  {
   "cell_type": "code",
   "execution_count": 113,
   "metadata": {},
   "outputs": [],
   "source": [
    "from collections import Counter\n",
    "import nltk\n",
    "from bs4 import BeautifulSoup"
   ]
  },
  {
   "cell_type": "code",
   "execution_count": 114,
   "metadata": {},
   "outputs": [],
   "source": [
    "from natasha import (\n",
    "    Doc,\n",
    "    Segmenter,\n",
    "    NewsEmbedding,\n",
    "    NewsMorphTagger,\n",
    "    NewsNERTagger,\n",
    "    NewsSyntaxParser,\n",
    "    MorphVocab,\n",
    "    NamesExtractor\n",
    ")"
   ]
  },
  {
   "cell_type": "code",
   "execution_count": 115,
   "metadata": {},
   "outputs": [
    {
     "name": "stderr",
     "output_type": "stream",
     "text": [
      "12:28:33 INFO:Loading dictionaries from C:\\Users\\NB\\anaconda3\\lib\\site-packages\\pymorphy2_dicts_ru\\data\n",
      "12:28:33 INFO:format: 2.4, revision: 417127, updated: 2020-10-11T15:05:51.070345\n"
     ]
    }
   ],
   "source": [
    "emb = NewsEmbedding()\n",
    "segmenter = Segmenter()\n",
    "morph = MorphVocab()\n",
    "ner_tagger = NewsNERTagger(emb)\n",
    "morph_tagger = NewsMorphTagger(emb)"
   ]
  },
  {
   "cell_type": "code",
   "execution_count": 116,
   "metadata": {},
   "outputs": [],
   "source": [
    "def calc_features(url, html_data):\n",
    "    text = re.findall(r'[а-яА-ЯёЁ]{3,}', html_data)\n",
    "    words = list(stemmer_list(text))\n",
    "    \n",
    "    doc = Doc(' '.join(text))\n",
    "    doc.segment(segmenter)\n",
    "    doc.tag_ner(ner_tagger)\n",
    "    name_amount = len(doc.spans)\n",
    "    \n",
    "    soup = BeautifulSoup(html_data, 'lxml')\n",
    "\n",
    "    bigrams = list(nltk.bigrams(words))\n",
    "    words_len = len(words)\n",
    "    ban_word_freq = sum(word in banwords for word in words) / words_len if words_len != 0 else 0\n",
    "        \n",
    "    pattern = lambda text: set(re.findall(r'(?:https?://(?:www.)?(.*)(?:\\.ru|\\.com|\\.net|\\.org|\\.ms|\\.de)?)?', text)[0].split('.'))\n",
    "    hrefs = re.findall(r'href=[\\'\\\"](.*?)[\\'\\\"]', html_data)\n",
    "    hrefs_len = len(hrefs)\n",
    "    http_hrefs = re.findall(r'https?://(?:www.)?(.*?)\\.(?:ru|com|net|org|ms|de)', ''.join(hrefs))\n",
    "\n",
    "    self_ref = sum(not item.startswith('http') or len(pattern(url) & pattern(item)) != 0 for item in hrefs\n",
    "                   if item is not None)\n",
    "    away_ref_freq = 1 - self_ref / hrefs_len if hrefs_len != 0 else 1\n",
    "    name_url_len = len(''.join(http_hrefs)) / len(http_hrefs) if len(http_hrefs) != 0 else 0\n",
    "    \n",
    "    avg_word_len = len(''.join(words)) / words_len if words_len != 0 else 0\n",
    "    \n",
    "    bold_tags = len(re.findall(r'<(b|strong|em|i|u|h[1-6])>', html_data))\n",
    "    \n",
    "    first_word_freq = Counter(words).most_common()[0][1] / words_len if words_len != 0 else 0\n",
    "    second_word_freq = Counter(words).most_common()[1][1] / words_len if words_len > 2 else 0\n",
    "    \n",
    "    ban_bigrams = sum(item[0] in banwords and item[1] in banwords for item in bigrams)\n",
    "    \n",
    "    first_bigrams_freq = Counter(bigrams).most_common()[0][1] / len(bigrams) if len(bigrams) != 0 else 0\n",
    "    \n",
    "    return [words_len, ban_word_freq, away_ref_freq, hrefs_len, name_url_len, avg_word_len,\n",
    "            bold_tags, first_word_freq, second_word_freq, ban_bigrams, first_bigrams_freq, name_amount]"
   ]
  },
  {
   "cell_type": "code",
   "execution_count": 117,
   "metadata": {},
   "outputs": [
    {
     "name": "stdout",
     "output_type": "stream",
     "text": [
      "[5, 0.4, 1.0, 1, 4.0, 3.4, 0, 0.2, 0.2, 0, 0.25, 1]\n"
     ]
    }
   ],
   "source": [
    "test_html_data = u'''\n",
    "<html>\n",
    "\n",
    "<a href=\"https://olol.ru/penis\"> порно в мире </a>\n",
    "спам 1 2 3 Ирина хуй\n",
    "</html>\n",
    "'''\n",
    "test_url = 'http://ololo'\n",
    "test_features = calc_features(test_url, test_html_data)\n",
    "print(test_features)"
   ]
  },
  {
   "cell_type": "code",
   "execution_count": 118,
   "metadata": {},
   "outputs": [],
   "source": [
    "logs = open('logs.txt', 'w')"
   ]
  },
  {
   "cell_type": "code",
   "execution_count": 119,
   "metadata": {},
   "outputs": [],
   "source": [
    "from multiprocessing import Process, Queue\n",
    "\n",
    "DocItem = namedtuple('DocItem', ['doc_id', 'is_spam', 'url', 'features'])\n",
    "\n",
    "WORKER_NUM = 4\n",
    "\n",
    "def load_csv(input_file_name, calc_features_f):    \n",
    "    \"\"\"\n",
    "    Загружаем данные и извлекаем на лету признаки\n",
    "    Сам контент не сохраняется, чтобы уменьшить потребление памяти - чтобы\n",
    "    можно было запускать даже на ноутбуках в классе\n",
    "    \"\"\"\n",
    "    global LAST_HTML\n",
    "    with gzip.open(input_file_name, mode='rt', encoding='utf8') if input_file_name.endswith('gz') else open(input_file_name, mode='rt', encoding='utf8')  as input_file:            \n",
    "        headers = input_file.readline()\n",
    "        \n",
    "        for i, line in tqdm(enumerate(input_file)):\n",
    "            trace(i)\n",
    "            parts = line.strip().split('\\t')\n",
    "            url_id = int(parts[0])                                        \n",
    "            mark = bool(int(parts[1]))    \n",
    "            url = parts[2]\n",
    "            pageInb64 = parts[3]\n",
    "            html_data = base64.b64decode(pageInb64)\n",
    "            try:\n",
    "                html_data = html_data.decode('utf8')\n",
    "            except:\n",
    "                html_data = html_data.decode('latin1')\n",
    "            features = calc_features_f(url, html_data)            \n",
    "            yield DocItem(url_id, mark, url, features)            \n",
    "                \n",
    "        trace(i, 1)  \n",
    "        \n",
    "def load_csv_worker(input_file_name, calc_features_f, worker_id, res_queue):    \n",
    "    with gzip.open(input_file_name,  mode='rt', encoding='utf8') if input_file_name.endswith('gz') else open(input_file_name, mode='rt', encoding='utf8')  as input_file:            \n",
    "        headers = input_file.readline()\n",
    "        \n",
    "        for i, line in tqdm(enumerate(input_file)):\n",
    "            trace_worker(i, worker_id)\n",
    "            if i % WORKER_NUM != worker_id: continue\n",
    "            parts = line.strip().split('\\t')\n",
    "            url_id = int(parts[0])                                        \n",
    "            mark = bool(int(parts[1]))                    \n",
    "            url = parts[2]\n",
    "            pageInb64 = parts[3]\n",
    "            html_data = base64.b64decode(pageInb64)\n",
    "            try:\n",
    "                html_data = html_data.decode('utf8')\n",
    "            except:\n",
    "                html_data = html_data.decode('latin1')\n",
    "            features = calc_features_f(url, html_data)            \n",
    "            res_queue.put(DocItem(url_id, mark, url, features))\n",
    "                \n",
    "        trace_worker(i, worker_id, 1)  \n",
    "    res_queue.put(None)\n",
    "        \n",
    "def load_csv_multiprocess(input_file_name, calc_features_f):\n",
    "    processes = []\n",
    "    res_queue = Queue()    \n",
    "    for i in range(WORKER_NUM):\n",
    "        process = Process(target=load_csv_worker, args=(input_file_name, calc_features_f, i, res_queue))\n",
    "        processes.append(process)\n",
    "        process.start()\n",
    "    \n",
    "    complete_workers = 0\n",
    "    while complete_workers != WORKER_NUM:\n",
    "        item = res_queue.get()\n",
    "        if item is None:\n",
    "            complete_workers += 1\n",
    "        else:\n",
    "            yield item\n",
    "        \n",
    "    for process in processes: process.join()"
   ]
  },
  {
   "cell_type": "markdown",
   "metadata": {},
   "source": [
    "** Обрабатываем входной файл **\n",
    "<br>\n",
    "Формат - поля разделенные табуляциями\n",
    "<br>\n",
    "0 - идентификатор документа\n",
    "<br>\n",
    "1 - метка класса 0 - не спам, 1 - спам\n",
    "<br>\n",
    "2 - урл документа\n",
    "<br>\n",
    "3 - документ в кодировке base64\n",
    "\n",
    "Выходной формат - массив кортежей вида\n",
    "(doc_id, is_spam, url, html_data)"
   ]
  },
  {
   "cell_type": "code",
   "execution_count": 120,
   "metadata": {},
   "outputs": [
    {
     "name": "stderr",
     "output_type": "stream",
     "text": [
      "0it [00:00, ?it/s]12:28:43 INFO:Complete items 00000\n",
      "1000it [01:58, 15.79it/s]12:30:41 INFO:Complete items 01000\n",
      "2000it [03:21, 11.29it/s]12:32:05 INFO:Complete items 02000\n",
      "2998it [04:56,  4.37it/s]12:33:40 INFO:Complete items 03000\n",
      "3999it [06:40,  8.17it/s]12:35:24 INFO:Complete items 04000\n",
      "5000it [08:28, 12.75it/s]12:37:12 INFO:Complete items 05000\n",
      "6000it [09:53, 18.45it/s]12:38:36 INFO:Complete items 06000\n",
      "7000it [11:58,  9.03it/s]12:40:42 INFO:Complete items 07000\n",
      "7044it [12:01,  9.76it/s]\n",
      "12:40:45 INFO:Complete items 07043\n",
      "0it [00:00, ?it/s]12:40:45 INFO:Complete items 00000\n",
      "1000it [02:39, 13.05it/s]12:43:25 INFO:Complete items 01000\n",
      "2000it [04:42, 12.27it/s]12:45:27 INFO:Complete items 02000\n",
      "3000it [08:14,  5.80it/s]12:49:00 INFO:Complete items 03000\n",
      "3999it [11:31,  5.00it/s]12:52:17 INFO:Complete items 04000\n",
      "4998it [14:30, 11.34it/s]12:55:15 INFO:Complete items 05000\n",
      "6000it [18:06,  7.93it/s]12:58:52 INFO:Complete items 06000\n",
      "6999it [21:15,  7.08it/s]13:02:00 INFO:Complete items 07000\n",
      "8000it [24:46,  6.90it/s]13:05:32 INFO:Complete items 08000\n",
      "9000it [27:47, 11.29it/s]13:08:33 INFO:Complete items 09000\n",
      "9999it [31:47, 12.30it/s]13:12:33 INFO:Complete items 10000\n",
      "10999it [34:44,  6.65it/s]13:15:30 INFO:Complete items 11000\n",
      "12000it [37:44,  7.86it/s]13:18:29 INFO:Complete items 12000\n",
      "13000it [40:22,  7.52it/s]13:21:07 INFO:Complete items 13000\n",
      "13999it [43:32,  9.08it/s]13:24:18 INFO:Complete items 14000\n",
      "15000it [46:50,  6.92it/s]13:27:35 INFO:Complete items 15000\n",
      "16000it [49:58,  4.61it/s]13:30:43 INFO:Complete items 16000\n",
      "16039it [50:11,  5.33it/s]\n",
      "13:30:57 INFO:Complete items 16038\n"
     ]
    },
    {
     "name": "stdout",
     "output_type": "stream",
     "text": [
      "Wall time: 1h 2min 13s\n"
     ]
    }
   ],
   "source": [
    "%%time\n",
    "\n",
    "TRAIN_DATA_FILE  = 'kaggle_train_data_tab.csv'\n",
    "TEST_DATA_FILE  = 'kaggle_test_data_tab.csv'\n",
    "\n",
    "train_docs = list(load_csv(TRAIN_DATA_FILE, calc_features))\n",
    "test_docs = list(load_csv(TEST_DATA_FILE, calc_features))\n",
    "# ololo = load_csv(TRAIN_DATA_FILE, calc_features)"
   ]
  },
  {
   "cell_type": "code",
   "execution_count": 85,
   "metadata": {
    "scrolled": false
   },
   "outputs": [
    {
     "data": {
      "text/plain": [
       "7044"
      ]
     },
     "execution_count": 85,
     "metadata": {},
     "output_type": "execute_result"
    }
   ],
   "source": [
    "len(train_docs)"
   ]
  },
  {
   "cell_type": "code",
   "execution_count": 22,
   "metadata": {},
   "outputs": [
    {
     "data": {
      "text/plain": [
       "16039"
      ]
     },
     "execution_count": 22,
     "metadata": {},
     "output_type": "execute_result"
    }
   ],
   "source": [
    "len(test_docs)"
   ]
  },
  {
   "cell_type": "code",
   "execution_count": 86,
   "metadata": {},
   "outputs": [
    {
     "data": {
      "image/png": "[encoded data removed]",
      "text/plain": [
       "<Figure size 432x288 with 1 Axes>"
      ]
     },
     "metadata": {
      "needs_background": "light"
     },
     "output_type": "display_data"
    }
   ],
   "source": [
    "is_spam_data = [doc.features[0] for doc in train_docs if doc[1] == True]\n",
    "not_spam_data = [doc.features[0] for doc in train_docs if doc[1] == False]\n",
    "bins = range(0,3000,10)\n",
    "plt.hist(is_spam_data, bins=bins, color='red', density=True, alpha=0.7, label='spam')\n",
    "plt.hist(not_spam_data, bins=bins, color='blue', density=True, alpha=0.7, label='not_spam')\n",
    "plt.title('Words Lenght')\n",
    "plt.legend()\n",
    "plt.show()"
   ]
  },
  {
   "cell_type": "code",
   "execution_count": 87,
   "metadata": {
    "scrolled": true
   },
   "outputs": [
    {
     "data": {
      "image/png": "[encoded data removed]",
      "text/plain": [
       "<Figure size 432x288 with 1 Axes>"
      ]
     },
     "metadata": {
      "needs_background": "light"
     },
     "output_type": "display_data"
    }
   ],
   "source": [
    "is_spam_data = [doc.features[1] for doc in train_docs if doc[1] == True]\n",
    "not_spam_data = [doc.features[1] for doc in train_docs if doc[1] == False]\n",
    "bins = 50\n",
    "plt.hist(is_spam_data, bins=bins, color='red', density=True, alpha=0.7, label='spam')\n",
    "plt.hist(not_spam_data, bins=bins, color='blue', density=True, alpha=0.7, label='not_spam')\n",
    "plt.title('Ban Words Frequency')\n",
    "plt.legend()\n",
    "plt.show()"
   ]
  },
  {
   "cell_type": "code",
   "execution_count": 88,
   "metadata": {},
   "outputs": [
    {
     "data": {
      "image/png": "[encoded data removed]",
      "text/plain": [
       "<Figure size 432x288 with 1 Axes>"
      ]
     },
     "metadata": {
      "needs_background": "light"
     },
     "output_type": "display_data"
    }
   ],
   "source": [
    "is_spam_data = [doc.features[2] for doc in train_docs if doc[1] == True]\n",
    "not_spam_data = [doc.features[2] for doc in train_docs if doc[1] == False]\n",
    "bins = 10\n",
    "plt.hist(is_spam_data, bins=bins, color='red', density=True, alpha=0.7, label='spam')\n",
    "plt.hist(not_spam_data, bins=bins, color='blue', density=True, alpha=0.7, label='not_spam')\n",
    "plt.title('Away Ref Freq')\n",
    "plt.legend()\n",
    "plt.show()"
   ]
  },
  {
   "cell_type": "code",
   "execution_count": 89,
   "metadata": {},
   "outputs": [
    {
     "data": {
      "image/png": "[encoded data removed]",
      "text/plain": [
       "<Figure size 432x288 with 1 Axes>"
      ]
     },
     "metadata": {
      "needs_background": "light"
     },
     "output_type": "display_data"
    }
   ],
   "source": [
    "is_spam_data = [doc.features[3] for doc in train_docs if doc[1] == True]\n",
    "not_spam_data = [doc.features[3] for doc in train_docs if doc[1] == False]\n",
    "bins = 100\n",
    "plt.hist(is_spam_data, bins=bins, color='red', density=True, alpha=0.7, label='spam')\n",
    "plt.hist(not_spam_data, bins=bins, color='blue', density=True, alpha=0.7, label='not_spam')\n",
    "plt.title('Hrefs Lenght')\n",
    "plt.legend()\n",
    "plt.show()"
   ]
  },
  {
   "cell_type": "code",
   "execution_count": 90,
   "metadata": {},
   "outputs": [
    {
     "data": {
      "image/png": "[encoded data removed]",
      "text/plain": [
       "<Figure size 432x288 with 1 Axes>"
      ]
     },
     "metadata": {
      "needs_background": "light"
     },
     "output_type": "display_data"
    }
   ],
   "source": [
    "is_spam_data = [doc.features[4] for doc in train_docs if doc[1] == True]\n",
    "not_spam_data = [doc.features[4] for doc in train_docs if doc[1] == False]\n",
    "bins = 50\n",
    "plt.hist(is_spam_data, bins=bins, color='red', density=True, alpha=0.7, label='spam')\n",
    "plt.hist(not_spam_data, bins=bins, color='blue', density=True, alpha=0.7, label='not_spam')\n",
    "plt.title('Url Lenght')\n",
    "plt.legend()\n",
    "plt.show()"
   ]
  },
  {
   "cell_type": "code",
   "execution_count": 91,
   "metadata": {
    "scrolled": true
   },
   "outputs": [
    {
     "data": {
      "image/png": "[encoded data removed]",
      "text/plain": [
       "<Figure size 432x288 with 1 Axes>"
      ]
     },
     "metadata": {
      "needs_background": "light"
     },
     "output_type": "display_data"
    }
   ],
   "source": [
    "is_spam_data = [doc.features[5] for doc in train_docs if doc[1] == True]\n",
    "not_spam_data = [doc.features[5] for doc in train_docs if doc[1] == False]\n",
    "bins = 50\n",
    "plt.hist(is_spam_data, bins=bins, color='red', density=True, alpha=0.7, label='spam')\n",
    "plt.hist(not_spam_data, bins=bins, color='blue', density=True, alpha=0.7, label='not_spam')\n",
    "plt.title('Words lenght average')\n",
    "plt.legend()\n",
    "plt.show()"
   ]
  },
  {
   "cell_type": "code",
   "execution_count": 92,
   "metadata": {},
   "outputs": [
    {
     "data": {
      "image/png": "[encoded data removed]",
      "text/plain": [
       "<Figure size 432x288 with 1 Axes>"
      ]
     },
     "metadata": {
      "needs_background": "light"
     },
     "output_type": "display_data"
    }
   ],
   "source": [
    "is_spam_data = [doc.features[6] for doc in train_docs if doc[1] == True]\n",
    "not_spam_data = [doc.features[6] for doc in train_docs if doc[1] == False]\n",
    "bins = 50\n",
    "plt.hist(is_spam_data, bins=bins, color='red', density=True, alpha=0.7, label='spam')\n",
    "plt.hist(not_spam_data, bins=bins, color='blue', density=True, alpha=0.7, label='not_spam')\n",
    "plt.title('Bold Tags')\n",
    "plt.legend()\n",
    "plt.show()"
   ]
  },
  {
   "cell_type": "code",
   "execution_count": 93,
   "metadata": {},
   "outputs": [
    {
     "data": {
      "image/png": "[encoded data removed]",
      "text/plain": [
       "<Figure size 432x288 with 1 Axes>"
      ]
     },
     "metadata": {
      "needs_background": "light"
     },
     "output_type": "display_data"
    }
   ],
   "source": [
    "is_spam_data = [doc.features[7] for doc in train_docs if doc[1] == True]\n",
    "not_spam_data = [doc.features[7] for doc in train_docs if doc[1] == False]\n",
    "bins = 50\n",
    "plt.hist(is_spam_data, bins=bins, color='red', density=True, alpha=0.7, label='spam')\n",
    "plt.hist(not_spam_data, bins=bins, color='blue', density=True, alpha=0.7, label='not_spam')\n",
    "plt.title('First Word Frequency')\n",
    "plt.legend()\n",
    "plt.show()"
   ]
  },
  {
   "cell_type": "code",
   "execution_count": 94,
   "metadata": {},
   "outputs": [
    {
     "data": {
      "image/png": "[encoded data removed]",
      "text/plain": [
       "<Figure size 432x288 with 1 Axes>"
      ]
     },
     "metadata": {
      "needs_background": "light"
     },
     "output_type": "display_data"
    }
   ],
   "source": [
    "is_spam_data = [doc.features[8] for doc in train_docs if doc[1] == True]\n",
    "not_spam_data = [doc.features[8] for doc in train_docs if doc[1] == False]\n",
    "bins = 50\n",
    "plt.hist(is_spam_data, bins=bins, color='red', density=True, alpha=0.7, label='spam')\n",
    "plt.hist(not_spam_data, bins=bins, color='blue', density=True, alpha=0.7, label='not_spam')\n",
    "plt.title('Second Word Frequency')\n",
    "plt.legend()\n",
    "plt.show()"
   ]
  },
  {
   "cell_type": "code",
   "execution_count": 95,
   "metadata": {
    "scrolled": true
   },
   "outputs": [
    {
     "data": {
      "image/png": "[encoded data removed]",
      "text/plain": [
       "<Figure size 432x288 with 1 Axes>"
      ]
     },
     "metadata": {
      "needs_background": "light"
     },
     "output_type": "display_data"
    }
   ],
   "source": [
    "is_spam_data = [doc.features[9] for doc in train_docs if doc[1] == True]\n",
    "not_spam_data = [doc.features[9] for doc in train_docs if doc[1] == False]\n",
    "bins = 8\n",
    "plt.hist(is_spam_data, bins=bins, color='red', density=True, alpha=0.7, label='spam')\n",
    "plt.hist(not_spam_data, bins=bins, color='blue', density=True, alpha=0.7, label='not_spam')\n",
    "plt.title('Ban Bigrams')\n",
    "plt.legend()\n",
    "plt.show()"
   ]
  },
  {
   "cell_type": "code",
   "execution_count": 96,
   "metadata": {
    "scrolled": true
   },
   "outputs": [
    {
     "data": {
      "image/png": "[encoded data removed]",
      "text/plain": [
       "<Figure size 432x288 with 1 Axes>"
      ]
     },
     "metadata": {
      "needs_background": "light"
     },
     "output_type": "display_data"
    }
   ],
   "source": [
    "is_spam_data = [doc.features[10] for doc in train_docs if doc[1] == True]\n",
    "not_spam_data = [doc.features[10] for doc in train_docs if doc[1] == False]\n",
    "bins = 8\n",
    "plt.hist(is_spam_data, bins=bins, color='red', density=True, alpha=0.7, label='spam')\n",
    "plt.hist(not_spam_data, bins=bins, color='blue', density=True, alpha=0.7, label='not_spam')\n",
    "plt.title('first bigrams freq')\n",
    "plt.legend()\n",
    "plt.show()"
   ]
  },
  {
   "cell_type": "code",
   "execution_count": 97,
   "metadata": {},
   "outputs": [
    {
     "data": {
      "image/png": "[encoded data removed]",
      "text/plain": [
       "<Figure size 432x288 with 1 Axes>"
      ]
     },
     "metadata": {
      "needs_background": "light"
     },
     "output_type": "display_data"
    }
   ],
   "source": [
    "is_spam_data = [doc.features[11] for doc in train_docs if doc[1] == True]\n",
    "not_spam_data = [doc.features[11] for doc in train_docs if doc[1] == False]\n",
    "bins = 8\n",
    "plt.hist(is_spam_data, bins=bins, color='red', density=True, alpha=0.7, label='spam')\n",
    "plt.hist(not_spam_data, bins=bins, color='blue', density=True, alpha=0.7, label='not_spam')\n",
    "plt.title('first bigrams freq')\n",
    "plt.legend()\n",
    "plt.show()"
   ]
  },
  {
   "cell_type": "code",
   "execution_count": 98,
   "metadata": {},
   "outputs": [
    {
     "name": "stderr",
     "output_type": "stream",
     "text": [
      "12:17:42 INFO:Note: NumExpr detected 12 cores but \"NUMEXPR_MAX_THREADS\" not set, so enforcing safe limit of 8.\n",
      "12:17:42 INFO:NumExpr defaulting to 8 threads.\n"
     ]
    }
   ],
   "source": [
    "from sklearn.preprocessing import StandardScaler\n",
    "from catboost import CatBoostClassifier\n",
    "from sklearn.model_selection import cross_validate\n",
    "import pandas as pd\n",
    "from sklearn.ensemble import RandomForestClassifier\n",
    "import xgboost"
   ]
  },
  {
   "cell_type": "code",
   "execution_count": 99,
   "metadata": {},
   "outputs": [],
   "source": [
    "X_data = np.array([item[3] for item in train_docs])\n",
    "target = np.array([item[1] for item in train_docs]).astype(int)"
   ]
  },
  {
   "cell_type": "code",
   "execution_count": 43,
   "metadata": {},
   "outputs": [],
   "source": [
    "X_test_data = np.array([item[3] for item in test_docs])"
   ]
  },
  {
   "cell_type": "code",
   "execution_count": 100,
   "metadata": {},
   "outputs": [],
   "source": [
    "obj = StandardScaler()\n",
    "X_scale = obj.fit_transform(X_data)"
   ]
  },
  {
   "cell_type": "code",
   "execution_count": 45,
   "metadata": {},
   "outputs": [],
   "source": [
    "X_test_scale = obj.fit_transform(X_test_data)"
   ]
  },
  {
   "cell_type": "code",
   "execution_count": 107,
   "metadata": {},
   "outputs": [],
   "source": [
    "clf = CatBoostClassifier(loss_function='Logloss',\n",
    "                         verbose=True,\n",
    "                         reg_lambda=0.01,\n",
    "                         leaf_estimation_method='Gradient',\n",
    "#                          custom_loss=['TotalF1:average=Weighted', 'Precision', 'Recall'],\n",
    "                         iterations=100,\n",
    "                         learning_rate=0.1,\n",
    "                         depth=13)"
   ]
  },
  {
   "cell_type": "code",
   "execution_count": 108,
   "metadata": {
    "scrolled": true
   },
   "outputs": [
    {
     "name": "stdout",
     "output_type": "stream",
     "text": [
      "0:\tlearn: 0.6748422\ttotal: 167ms\tremaining: 16.5s\n",
      "1:\tlearn: 0.6579687\ttotal: 347ms\tremaining: 17s\n",
      "2:\tlearn: 0.6407406\ttotal: 529ms\tremaining: 17.1s\n",
      "3:\tlearn: 0.6232874\ttotal: 711ms\tremaining: 17.1s\n",
      "4:\tlearn: 0.6077905\ttotal: 898ms\tremaining: 17.1s\n",
      "5:\tlearn: 0.5923428\ttotal: 1.08s\tremaining: 17s\n",
      "6:\tlearn: 0.5775883\ttotal: 1.28s\tremaining: 17s\n",
      "7:\tlearn: 0.5648535\ttotal: 1.49s\tremaining: 17.1s\n",
      "8:\tlearn: 0.5512650\ttotal: 1.69s\tremaining: 17.1s\n",
      "9:\tlearn: 0.5386569\ttotal: 1.88s\tremaining: 16.9s\n",
      "10:\tlearn: 0.5257293\ttotal: 2.08s\tremaining: 16.9s\n",
      "11:\tlearn: 0.5142762\ttotal: 2.27s\tremaining: 16.7s\n",
      "12:\tlearn: 0.5029221\ttotal: 2.46s\tremaining: 16.5s\n",
      "13:\tlearn: 0.4920117\ttotal: 2.66s\tremaining: 16.3s\n",
      "14:\tlearn: 0.4814327\ttotal: 2.85s\tremaining: 16.2s\n",
      "15:\tlearn: 0.4717490\ttotal: 3.04s\tremaining: 16s\n",
      "16:\tlearn: 0.4627353\ttotal: 3.23s\tremaining: 15.8s\n",
      "17:\tlearn: 0.4546067\ttotal: 3.42s\tremaining: 15.6s\n",
      "18:\tlearn: 0.4460312\ttotal: 3.61s\tremaining: 15.4s\n",
      "19:\tlearn: 0.4370920\ttotal: 3.8s\tremaining: 15.2s\n",
      "20:\tlearn: 0.4288383\ttotal: 3.99s\tremaining: 15s\n",
      "21:\tlearn: 0.4205653\ttotal: 4.18s\tremaining: 14.8s\n",
      "22:\tlearn: 0.4131409\ttotal: 4.38s\tremaining: 14.6s\n",
      "23:\tlearn: 0.4051123\ttotal: 4.57s\tremaining: 14.5s\n",
      "24:\tlearn: 0.3986034\ttotal: 4.75s\tremaining: 14.3s\n",
      "25:\tlearn: 0.3922002\ttotal: 4.95s\tremaining: 14.1s\n",
      "26:\tlearn: 0.3850506\ttotal: 5.15s\tremaining: 13.9s\n",
      "27:\tlearn: 0.3783656\ttotal: 5.34s\tremaining: 13.7s\n",
      "28:\tlearn: 0.3715020\ttotal: 5.54s\tremaining: 13.6s\n",
      "29:\tlearn: 0.3654133\ttotal: 5.75s\tremaining: 13.4s\n",
      "30:\tlearn: 0.3592469\ttotal: 5.95s\tremaining: 13.2s\n",
      "31:\tlearn: 0.3533536\ttotal: 6.16s\tremaining: 13.1s\n",
      "32:\tlearn: 0.3480655\ttotal: 6.38s\tremaining: 12.9s\n",
      "33:\tlearn: 0.3426270\ttotal: 6.6s\tremaining: 12.8s\n",
      "34:\tlearn: 0.3372340\ttotal: 6.81s\tremaining: 12.6s\n",
      "35:\tlearn: 0.3323545\ttotal: 7.03s\tremaining: 12.5s\n",
      "36:\tlearn: 0.3276756\ttotal: 7.24s\tremaining: 12.3s\n",
      "37:\tlearn: 0.3228547\ttotal: 7.45s\tremaining: 12.2s\n",
      "38:\tlearn: 0.3180213\ttotal: 7.66s\tremaining: 12s\n",
      "39:\tlearn: 0.3135154\ttotal: 7.87s\tremaining: 11.8s\n",
      "40:\tlearn: 0.3090777\ttotal: 8.07s\tremaining: 11.6s\n",
      "41:\tlearn: 0.3045475\ttotal: 8.27s\tremaining: 11.4s\n",
      "42:\tlearn: 0.3005164\ttotal: 8.46s\tremaining: 11.2s\n",
      "43:\tlearn: 0.2965504\ttotal: 8.65s\tremaining: 11s\n",
      "44:\tlearn: 0.2927516\ttotal: 8.84s\tremaining: 10.8s\n",
      "45:\tlearn: 0.2895333\ttotal: 9.03s\tremaining: 10.6s\n",
      "46:\tlearn: 0.2863083\ttotal: 9.22s\tremaining: 10.4s\n",
      "47:\tlearn: 0.2826979\ttotal: 9.41s\tremaining: 10.2s\n",
      "48:\tlearn: 0.2795346\ttotal: 9.61s\tremaining: 10s\n",
      "49:\tlearn: 0.2760569\ttotal: 9.8s\tremaining: 9.8s\n",
      "50:\tlearn: 0.2720548\ttotal: 9.99s\tremaining: 9.6s\n",
      "51:\tlearn: 0.2685804\ttotal: 10.2s\tremaining: 9.4s\n",
      "52:\tlearn: 0.2654718\ttotal: 10.4s\tremaining: 9.2s\n",
      "53:\tlearn: 0.2621409\ttotal: 10.6s\tremaining: 9s\n",
      "54:\tlearn: 0.2591679\ttotal: 10.8s\tremaining: 8.8s\n",
      "55:\tlearn: 0.2558782\ttotal: 10.9s\tremaining: 8.6s\n",
      "56:\tlearn: 0.2530618\ttotal: 11.1s\tremaining: 8.4s\n",
      "57:\tlearn: 0.2504331\ttotal: 11.3s\tremaining: 8.21s\n",
      "58:\tlearn: 0.2476395\ttotal: 11.5s\tremaining: 8.02s\n",
      "59:\tlearn: 0.2445272\ttotal: 11.7s\tremaining: 7.82s\n",
      "60:\tlearn: 0.2418299\ttotal: 11.9s\tremaining: 7.63s\n",
      "61:\tlearn: 0.2392366\ttotal: 12.1s\tremaining: 7.44s\n",
      "62:\tlearn: 0.2367450\ttotal: 12.3s\tremaining: 7.24s\n",
      "63:\tlearn: 0.2338814\ttotal: 12.5s\tremaining: 7.05s\n",
      "64:\tlearn: 0.2316396\ttotal: 12.7s\tremaining: 6.86s\n",
      "65:\tlearn: 0.2291703\ttotal: 12.9s\tremaining: 6.66s\n",
      "66:\tlearn: 0.2265173\ttotal: 13.1s\tremaining: 6.47s\n",
      "67:\tlearn: 0.2241485\ttotal: 13.3s\tremaining: 6.28s\n",
      "68:\tlearn: 0.2215645\ttotal: 13.5s\tremaining: 6.08s\n",
      "69:\tlearn: 0.2191939\ttotal: 13.7s\tremaining: 5.88s\n",
      "70:\tlearn: 0.2168114\ttotal: 13.9s\tremaining: 5.68s\n",
      "71:\tlearn: 0.2146439\ttotal: 14.1s\tremaining: 5.49s\n",
      "72:\tlearn: 0.2122594\ttotal: 14.3s\tremaining: 5.29s\n",
      "73:\tlearn: 0.2098839\ttotal: 14.5s\tremaining: 5.09s\n",
      "74:\tlearn: 0.2077717\ttotal: 14.7s\tremaining: 4.89s\n",
      "75:\tlearn: 0.2057977\ttotal: 14.9s\tremaining: 4.69s\n",
      "76:\tlearn: 0.2039845\ttotal: 15.1s\tremaining: 4.5s\n",
      "77:\tlearn: 0.2021475\ttotal: 15.3s\tremaining: 4.3s\n",
      "78:\tlearn: 0.2001249\ttotal: 15.4s\tremaining: 4.11s\n",
      "79:\tlearn: 0.1980903\ttotal: 15.6s\tremaining: 3.91s\n",
      "80:\tlearn: 0.1959465\ttotal: 15.8s\tremaining: 3.71s\n",
      "81:\tlearn: 0.1938087\ttotal: 16s\tremaining: 3.52s\n",
      "82:\tlearn: 0.1920281\ttotal: 16.2s\tremaining: 3.32s\n",
      "83:\tlearn: 0.1902691\ttotal: 16.4s\tremaining: 3.13s\n",
      "84:\tlearn: 0.1883619\ttotal: 16.6s\tremaining: 2.93s\n",
      "85:\tlearn: 0.1865152\ttotal: 16.8s\tremaining: 2.73s\n",
      "86:\tlearn: 0.1848777\ttotal: 17s\tremaining: 2.54s\n",
      "87:\tlearn: 0.1833535\ttotal: 17.2s\tremaining: 2.35s\n",
      "88:\tlearn: 0.1816780\ttotal: 17.4s\tremaining: 2.15s\n",
      "89:\tlearn: 0.1800096\ttotal: 17.6s\tremaining: 1.95s\n",
      "90:\tlearn: 0.1784490\ttotal: 17.8s\tremaining: 1.76s\n",
      "91:\tlearn: 0.1770228\ttotal: 18s\tremaining: 1.56s\n",
      "92:\tlearn: 0.1754889\ttotal: 18.2s\tremaining: 1.37s\n",
      "93:\tlearn: 0.1739092\ttotal: 18.4s\tremaining: 1.17s\n",
      "94:\tlearn: 0.1723391\ttotal: 18.6s\tremaining: 977ms\n",
      "95:\tlearn: 0.1709964\ttotal: 18.8s\tremaining: 781ms\n",
      "96:\tlearn: 0.1694219\ttotal: 18.9s\tremaining: 586ms\n",
      "97:\tlearn: 0.1679796\ttotal: 19.1s\tremaining: 391ms\n",
      "98:\tlearn: 0.1664660\ttotal: 19.3s\tremaining: 195ms\n",
      "99:\tlearn: 0.1649130\ttotal: 19.5s\tremaining: 0us\n",
      "0:\tlearn: 0.6738699\ttotal: 174ms\tremaining: 17.2s\n",
      "1:\tlearn: 0.6565560\ttotal: 352ms\tremaining: 17.2s\n",
      "2:\tlearn: 0.6400287\ttotal: 534ms\tremaining: 17.3s\n",
      "3:\tlearn: 0.6231617\ttotal: 727ms\tremaining: 17.4s\n",
      "4:\tlearn: 0.6072039\ttotal: 916ms\tremaining: 17.4s\n",
      "5:\tlearn: 0.5917281\ttotal: 1.11s\tremaining: 17.4s\n",
      "6:\tlearn: 0.5770243\ttotal: 1.3s\tremaining: 17.3s\n",
      "7:\tlearn: 0.5641532\ttotal: 1.5s\tremaining: 17.3s\n",
      "8:\tlearn: 0.5504236\ttotal: 1.7s\tremaining: 17.2s\n",
      "9:\tlearn: 0.5377696\ttotal: 1.9s\tremaining: 17.1s\n",
      "10:\tlearn: 0.5259507\ttotal: 2.1s\tremaining: 17s\n",
      "11:\tlearn: 0.5134845\ttotal: 2.29s\tremaining: 16.8s\n",
      "12:\tlearn: 0.5026556\ttotal: 2.49s\tremaining: 16.6s\n",
      "13:\tlearn: 0.4919468\ttotal: 2.68s\tremaining: 16.5s\n",
      "14:\tlearn: 0.4814979\ttotal: 2.88s\tremaining: 16.3s\n",
      "15:\tlearn: 0.4709961\ttotal: 3.08s\tremaining: 16.1s\n",
      "16:\tlearn: 0.4615209\ttotal: 3.27s\tremaining: 16s\n",
      "17:\tlearn: 0.4525643\ttotal: 3.46s\tremaining: 15.8s\n",
      "18:\tlearn: 0.4442454\ttotal: 3.67s\tremaining: 15.6s\n",
      "19:\tlearn: 0.4354190\ttotal: 3.86s\tremaining: 15.5s\n",
      "20:\tlearn: 0.4267212\ttotal: 4.06s\tremaining: 15.3s\n",
      "21:\tlearn: 0.4192095\ttotal: 4.27s\tremaining: 15.1s\n",
      "22:\tlearn: 0.4117890\ttotal: 4.47s\tremaining: 15s\n",
      "23:\tlearn: 0.4045215\ttotal: 4.66s\tremaining: 14.7s\n",
      "24:\tlearn: 0.3968914\ttotal: 4.85s\tremaining: 14.5s\n",
      "25:\tlearn: 0.3897114\ttotal: 5.04s\tremaining: 14.3s\n",
      "26:\tlearn: 0.3823637\ttotal: 5.23s\tremaining: 14.1s\n",
      "27:\tlearn: 0.3758524\ttotal: 5.43s\tremaining: 14s\n",
      "28:\tlearn: 0.3692386\ttotal: 5.62s\tremaining: 13.8s\n",
      "29:\tlearn: 0.3628117\ttotal: 5.82s\tremaining: 13.6s\n",
      "30:\tlearn: 0.3569405\ttotal: 6.02s\tremaining: 13.4s\n",
      "31:\tlearn: 0.3511541\ttotal: 6.21s\tremaining: 13.2s\n",
      "32:\tlearn: 0.3456144\ttotal: 6.41s\tremaining: 13s\n",
      "33:\tlearn: 0.3401985\ttotal: 6.6s\tremaining: 12.8s\n",
      "34:\tlearn: 0.3348869\ttotal: 6.8s\tremaining: 12.6s\n",
      "35:\tlearn: 0.3304351\ttotal: 6.99s\tremaining: 12.4s\n",
      "36:\tlearn: 0.3261861\ttotal: 7.18s\tremaining: 12.2s\n",
      "37:\tlearn: 0.3214719\ttotal: 7.38s\tremaining: 12s\n",
      "38:\tlearn: 0.3169058\ttotal: 7.57s\tremaining: 11.8s\n",
      "39:\tlearn: 0.3122962\ttotal: 7.76s\tremaining: 11.6s\n",
      "40:\tlearn: 0.3076731\ttotal: 7.96s\tremaining: 11.4s\n",
      "41:\tlearn: 0.3033252\ttotal: 8.15s\tremaining: 11.3s\n",
      "42:\tlearn: 0.2993410\ttotal: 8.36s\tremaining: 11.1s\n",
      "43:\tlearn: 0.2955986\ttotal: 8.55s\tremaining: 10.9s\n",
      "44:\tlearn: 0.2916826\ttotal: 8.75s\tremaining: 10.7s\n",
      "45:\tlearn: 0.2885072\ttotal: 8.94s\tremaining: 10.5s\n",
      "46:\tlearn: 0.2848410\ttotal: 9.14s\tremaining: 10.3s\n",
      "47:\tlearn: 0.2812411\ttotal: 9.34s\tremaining: 10.1s\n",
      "48:\tlearn: 0.2783375\ttotal: 9.54s\tremaining: 9.93s\n",
      "49:\tlearn: 0.2745278\ttotal: 9.76s\tremaining: 9.76s\n",
      "50:\tlearn: 0.2709942\ttotal: 9.96s\tremaining: 9.57s\n",
      "51:\tlearn: 0.2676001\ttotal: 10.2s\tremaining: 9.39s\n",
      "52:\tlearn: 0.2646624\ttotal: 10.4s\tremaining: 9.21s\n",
      "53:\tlearn: 0.2614520\ttotal: 10.6s\tremaining: 9.01s\n",
      "54:\tlearn: 0.2582966\ttotal: 10.8s\tremaining: 8.81s\n",
      "55:\tlearn: 0.2550500\ttotal: 11s\tremaining: 8.62s\n",
      "56:\tlearn: 0.2520197\ttotal: 11.2s\tremaining: 8.42s\n",
      "57:\tlearn: 0.2493328\ttotal: 11.3s\tremaining: 8.22s\n",
      "58:\tlearn: 0.2464405\ttotal: 11.5s\tremaining: 8.02s\n",
      "59:\tlearn: 0.2435134\ttotal: 11.7s\tremaining: 7.82s\n",
      "60:\tlearn: 0.2409898\ttotal: 11.9s\tremaining: 7.62s\n",
      "61:\tlearn: 0.2383337\ttotal: 12.1s\tremaining: 7.43s\n",
      "62:\tlearn: 0.2356338\ttotal: 12.3s\tremaining: 7.23s\n",
      "63:\tlearn: 0.2329550\ttotal: 12.5s\tremaining: 7.03s\n"
     ]
    },
    {
     "name": "stdout",
     "output_type": "stream",
     "text": [
      "64:\tlearn: 0.2306593\ttotal: 12.7s\tremaining: 6.83s\n",
      "65:\tlearn: 0.2283162\ttotal: 12.9s\tremaining: 6.63s\n",
      "66:\tlearn: 0.2256984\ttotal: 13.1s\tremaining: 6.43s\n",
      "67:\tlearn: 0.2234091\ttotal: 13.3s\tremaining: 6.24s\n",
      "68:\tlearn: 0.2210838\ttotal: 13.4s\tremaining: 6.04s\n",
      "69:\tlearn: 0.2188366\ttotal: 13.6s\tremaining: 5.84s\n",
      "70:\tlearn: 0.2163495\ttotal: 13.8s\tremaining: 5.64s\n",
      "71:\tlearn: 0.2141043\ttotal: 14s\tremaining: 5.45s\n",
      "72:\tlearn: 0.2116914\ttotal: 14.2s\tremaining: 5.25s\n",
      "73:\tlearn: 0.2095810\ttotal: 14.4s\tremaining: 5.07s\n",
      "74:\tlearn: 0.2073132\ttotal: 14.6s\tremaining: 4.87s\n",
      "75:\tlearn: 0.2054552\ttotal: 14.8s\tremaining: 4.68s\n",
      "76:\tlearn: 0.2034499\ttotal: 15s\tremaining: 4.48s\n",
      "77:\tlearn: 0.2015403\ttotal: 15.2s\tremaining: 4.28s\n",
      "78:\tlearn: 0.1995860\ttotal: 15.4s\tremaining: 4.09s\n",
      "79:\tlearn: 0.1975462\ttotal: 15.6s\tremaining: 3.9s\n",
      "80:\tlearn: 0.1956671\ttotal: 15.8s\tremaining: 3.71s\n",
      "81:\tlearn: 0.1937355\ttotal: 16s\tremaining: 3.51s\n",
      "82:\tlearn: 0.1916752\ttotal: 16.2s\tremaining: 3.31s\n",
      "83:\tlearn: 0.1900629\ttotal: 16.4s\tremaining: 3.12s\n",
      "84:\tlearn: 0.1882864\ttotal: 16.6s\tremaining: 2.92s\n",
      "85:\tlearn: 0.1864658\ttotal: 16.8s\tremaining: 2.73s\n",
      "86:\tlearn: 0.1849034\ttotal: 17s\tremaining: 2.54s\n",
      "87:\tlearn: 0.1834332\ttotal: 17.2s\tremaining: 2.34s\n",
      "88:\tlearn: 0.1820879\ttotal: 17.4s\tremaining: 2.15s\n",
      "89:\tlearn: 0.1805529\ttotal: 17.5s\tremaining: 1.95s\n",
      "90:\tlearn: 0.1790244\ttotal: 17.7s\tremaining: 1.75s\n",
      "91:\tlearn: 0.1776255\ttotal: 17.9s\tremaining: 1.56s\n",
      "92:\tlearn: 0.1760009\ttotal: 18.1s\tremaining: 1.36s\n",
      "93:\tlearn: 0.1744313\ttotal: 18.3s\tremaining: 1.17s\n",
      "94:\tlearn: 0.1729919\ttotal: 18.5s\tremaining: 973ms\n",
      "95:\tlearn: 0.1713316\ttotal: 18.7s\tremaining: 779ms\n",
      "96:\tlearn: 0.1698604\ttotal: 18.9s\tremaining: 584ms\n",
      "97:\tlearn: 0.1685491\ttotal: 19.1s\tremaining: 389ms\n",
      "98:\tlearn: 0.1670274\ttotal: 19.3s\tremaining: 195ms\n",
      "99:\tlearn: 0.1655761\ttotal: 19.4s\tremaining: 0us\n",
      "0:\tlearn: 0.6750113\ttotal: 174ms\tremaining: 17.2s\n",
      "1:\tlearn: 0.6591150\ttotal: 349ms\tremaining: 17.1s\n",
      "2:\tlearn: 0.6426982\ttotal: 526ms\tremaining: 17s\n",
      "3:\tlearn: 0.6259030\ttotal: 715ms\tremaining: 17.2s\n",
      "4:\tlearn: 0.6096997\ttotal: 904ms\tremaining: 17.2s\n",
      "5:\tlearn: 0.5945901\ttotal: 1.09s\tremaining: 17.1s\n",
      "6:\tlearn: 0.5800267\ttotal: 1.27s\tremaining: 16.9s\n",
      "7:\tlearn: 0.5674942\ttotal: 1.46s\tremaining: 16.8s\n",
      "8:\tlearn: 0.5541656\ttotal: 1.65s\tremaining: 16.6s\n",
      "9:\tlearn: 0.5413388\ttotal: 1.83s\tremaining: 16.5s\n",
      "10:\tlearn: 0.5293608\ttotal: 2.02s\tremaining: 16.4s\n",
      "11:\tlearn: 0.5176858\ttotal: 2.21s\tremaining: 16.2s\n",
      "12:\tlearn: 0.5063599\ttotal: 2.4s\tremaining: 16.1s\n",
      "13:\tlearn: 0.4957268\ttotal: 2.6s\tremaining: 15.9s\n",
      "14:\tlearn: 0.4852764\ttotal: 2.79s\tremaining: 15.8s\n",
      "15:\tlearn: 0.4754198\ttotal: 2.98s\tremaining: 15.7s\n",
      "16:\tlearn: 0.4660047\ttotal: 3.17s\tremaining: 15.5s\n",
      "17:\tlearn: 0.4573817\ttotal: 3.37s\tremaining: 15.3s\n",
      "18:\tlearn: 0.4489900\ttotal: 3.56s\tremaining: 15.2s\n",
      "19:\tlearn: 0.4403053\ttotal: 3.75s\tremaining: 15s\n",
      "20:\tlearn: 0.4320059\ttotal: 3.94s\tremaining: 14.8s\n",
      "21:\tlearn: 0.4246768\ttotal: 4.13s\tremaining: 14.6s\n",
      "22:\tlearn: 0.4169540\ttotal: 4.33s\tremaining: 14.5s\n",
      "23:\tlearn: 0.4089615\ttotal: 4.53s\tremaining: 14.3s\n",
      "24:\tlearn: 0.4011254\ttotal: 4.74s\tremaining: 14.2s\n",
      "25:\tlearn: 0.3943653\ttotal: 4.93s\tremaining: 14s\n",
      "26:\tlearn: 0.3869191\ttotal: 5.14s\tremaining: 13.9s\n",
      "27:\tlearn: 0.3804655\ttotal: 5.33s\tremaining: 13.7s\n",
      "28:\tlearn: 0.3736768\ttotal: 5.52s\tremaining: 13.5s\n",
      "29:\tlearn: 0.3671740\ttotal: 5.71s\tremaining: 13.3s\n",
      "30:\tlearn: 0.3609941\ttotal: 5.91s\tremaining: 13.2s\n",
      "31:\tlearn: 0.3550558\ttotal: 6.11s\tremaining: 13s\n",
      "32:\tlearn: 0.3495110\ttotal: 6.31s\tremaining: 12.8s\n",
      "33:\tlearn: 0.3437245\ttotal: 6.51s\tremaining: 12.6s\n",
      "34:\tlearn: 0.3384043\ttotal: 6.71s\tremaining: 12.5s\n",
      "35:\tlearn: 0.3339246\ttotal: 6.9s\tremaining: 12.3s\n",
      "36:\tlearn: 0.3289386\ttotal: 7.09s\tremaining: 12.1s\n",
      "37:\tlearn: 0.3238018\ttotal: 7.28s\tremaining: 11.9s\n",
      "38:\tlearn: 0.3188178\ttotal: 7.49s\tremaining: 11.7s\n",
      "39:\tlearn: 0.3146408\ttotal: 7.67s\tremaining: 11.5s\n",
      "40:\tlearn: 0.3102319\ttotal: 7.86s\tremaining: 11.3s\n",
      "41:\tlearn: 0.3058149\ttotal: 8.05s\tremaining: 11.1s\n",
      "42:\tlearn: 0.3015577\ttotal: 8.23s\tremaining: 10.9s\n",
      "43:\tlearn: 0.2979920\ttotal: 8.43s\tremaining: 10.7s\n",
      "44:\tlearn: 0.2940442\ttotal: 8.62s\tremaining: 10.5s\n",
      "45:\tlearn: 0.2909269\ttotal: 8.81s\tremaining: 10.3s\n",
      "46:\tlearn: 0.2871478\ttotal: 9s\tremaining: 10.1s\n",
      "47:\tlearn: 0.2835591\ttotal: 9.19s\tremaining: 9.96s\n",
      "48:\tlearn: 0.2801787\ttotal: 9.38s\tremaining: 9.77s\n",
      "49:\tlearn: 0.2769505\ttotal: 9.57s\tremaining: 9.57s\n",
      "50:\tlearn: 0.2731112\ttotal: 9.77s\tremaining: 9.39s\n",
      "51:\tlearn: 0.2691206\ttotal: 9.97s\tremaining: 9.21s\n",
      "52:\tlearn: 0.2658202\ttotal: 10.2s\tremaining: 9.02s\n",
      "53:\tlearn: 0.2625744\ttotal: 10.4s\tremaining: 8.82s\n",
      "54:\tlearn: 0.2592072\ttotal: 10.6s\tremaining: 8.63s\n",
      "55:\tlearn: 0.2562322\ttotal: 10.7s\tremaining: 8.44s\n",
      "56:\tlearn: 0.2532513\ttotal: 10.9s\tremaining: 8.26s\n",
      "57:\tlearn: 0.2506959\ttotal: 11.1s\tremaining: 8.06s\n",
      "58:\tlearn: 0.2476890\ttotal: 11.3s\tremaining: 7.88s\n",
      "59:\tlearn: 0.2448161\ttotal: 11.5s\tremaining: 7.68s\n",
      "60:\tlearn: 0.2422121\ttotal: 11.7s\tremaining: 7.49s\n",
      "61:\tlearn: 0.2392964\ttotal: 11.9s\tremaining: 7.3s\n",
      "62:\tlearn: 0.2364273\ttotal: 12.1s\tremaining: 7.11s\n",
      "63:\tlearn: 0.2336367\ttotal: 12.3s\tremaining: 6.91s\n",
      "64:\tlearn: 0.2312281\ttotal: 12.5s\tremaining: 6.72s\n",
      "65:\tlearn: 0.2288758\ttotal: 12.7s\tremaining: 6.53s\n",
      "66:\tlearn: 0.2262452\ttotal: 12.9s\tremaining: 6.34s\n",
      "67:\tlearn: 0.2238370\ttotal: 13.1s\tremaining: 6.15s\n",
      "68:\tlearn: 0.2212840\ttotal: 13.3s\tremaining: 5.96s\n",
      "69:\tlearn: 0.2189470\ttotal: 13.5s\tremaining: 5.76s\n",
      "70:\tlearn: 0.2166562\ttotal: 13.6s\tremaining: 5.57s\n",
      "71:\tlearn: 0.2139516\ttotal: 13.8s\tremaining: 5.38s\n",
      "72:\tlearn: 0.2116244\ttotal: 14s\tremaining: 5.18s\n",
      "73:\tlearn: 0.2092877\ttotal: 14.2s\tremaining: 4.99s\n",
      "74:\tlearn: 0.2070415\ttotal: 14.4s\tremaining: 4.8s\n",
      "75:\tlearn: 0.2052095\ttotal: 14.6s\tremaining: 4.62s\n",
      "76:\tlearn: 0.2033767\ttotal: 14.8s\tremaining: 4.42s\n",
      "77:\tlearn: 0.2014506\ttotal: 15s\tremaining: 4.23s\n",
      "78:\tlearn: 0.1993518\ttotal: 15.2s\tremaining: 4.04s\n",
      "79:\tlearn: 0.1974011\ttotal: 15.4s\tremaining: 3.85s\n",
      "80:\tlearn: 0.1953135\ttotal: 15.6s\tremaining: 3.65s\n",
      "81:\tlearn: 0.1931845\ttotal: 15.8s\tremaining: 3.46s\n",
      "82:\tlearn: 0.1912775\ttotal: 15.9s\tremaining: 3.27s\n",
      "83:\tlearn: 0.1894969\ttotal: 16.1s\tremaining: 3.07s\n",
      "84:\tlearn: 0.1876661\ttotal: 16.3s\tremaining: 2.88s\n",
      "85:\tlearn: 0.1858398\ttotal: 16.5s\tremaining: 2.69s\n",
      "86:\tlearn: 0.1844057\ttotal: 16.7s\tremaining: 2.5s\n",
      "87:\tlearn: 0.1830113\ttotal: 16.9s\tremaining: 2.31s\n",
      "88:\tlearn: 0.1814058\ttotal: 17.1s\tremaining: 2.11s\n",
      "89:\tlearn: 0.1797157\ttotal: 17.3s\tremaining: 1.92s\n",
      "90:\tlearn: 0.1781813\ttotal: 17.5s\tremaining: 1.73s\n",
      "91:\tlearn: 0.1766545\ttotal: 17.7s\tremaining: 1.54s\n",
      "92:\tlearn: 0.1749566\ttotal: 17.9s\tremaining: 1.34s\n",
      "93:\tlearn: 0.1735156\ttotal: 18.1s\tremaining: 1.15s\n",
      "94:\tlearn: 0.1719289\ttotal: 18.3s\tremaining: 961ms\n",
      "95:\tlearn: 0.1704276\ttotal: 18.5s\tremaining: 769ms\n",
      "96:\tlearn: 0.1688283\ttotal: 18.6s\tremaining: 577ms\n",
      "97:\tlearn: 0.1673793\ttotal: 18.8s\tremaining: 384ms\n",
      "98:\tlearn: 0.1658851\ttotal: 19s\tremaining: 192ms\n",
      "99:\tlearn: 0.1645082\ttotal: 19.2s\tremaining: 0us\n"
     ]
    },
    {
     "data": {
      "text/plain": [
       "{'fit_time': array([19.7009542 , 19.63415933, 19.40977645]),\n",
       " 'score_time': array([0.00999856, 0.015558  , 0.        ]),\n",
       " 'test_score': array([0.9390971 , 0.9241908 , 0.93568995])}"
      ]
     },
     "execution_count": 108,
     "metadata": {},
     "output_type": "execute_result"
    }
   ],
   "source": [
    "cross_validate(clf, X_scale, target, cv=3)"
   ]
  },
  {
   "cell_type": "code",
   "execution_count": 47,
   "metadata": {
    "scrolled": true
   },
   "outputs": [
    {
     "data": {
      "text/plain": [
       "<catboost.core.CatBoostClassifier at 0x23e2b1207f0>"
      ]
     },
     "execution_count": 47,
     "metadata": {},
     "output_type": "execute_result"
    }
   ],
   "source": [
    "clf.fit(X_scale, target)"
   ]
  },
  {
   "cell_type": "code",
   "execution_count": 48,
   "metadata": {},
   "outputs": [
    {
     "data": {
      "text/plain": [
       "array([ 8.99244796, 10.90903959, 15.45510843, 15.65089935, 13.97669781,\n",
       "        6.35885872,  9.10927618,  6.43199875,  3.43020216,  4.41074924,\n",
       "        5.27472182])"
      ]
     },
     "execution_count": 48,
     "metadata": {},
     "output_type": "execute_result"
    }
   ],
   "source": [
    "clf.feature_importances_"
   ]
  },
  {
   "cell_type": "code",
   "execution_count": 49,
   "metadata": {},
   "outputs": [],
   "source": [
    "kaggle = clf.predict(X_test_scale)"
   ]
  },
  {
   "cell_type": "code",
   "execution_count": 52,
   "metadata": {},
   "outputs": [],
   "source": [
    "ids = [item[0] for item in test_docs]"
   ]
  },
  {
   "cell_type": "code",
   "execution_count": 53,
   "metadata": {},
   "outputs": [],
   "source": [
    "df = pd.DataFrame({'Id': ids, 'Prediction': kaggle.reshape(-1)})\n",
    "df.to_csv('result.csv', index=False)"
   ]
  },
  {
   "cell_type": "code",
   "execution_count": null,
   "metadata": {},
   "outputs": [],
   "source": []
  },
  {
   "cell_type": "code",
   "execution_count": null,
   "metadata": {},
   "outputs": [],
   "source": []
  },
  {
   "cell_type": "code",
   "execution_count": null,
   "metadata": {},
   "outputs": [],
   "source": []
  },
  {
   "cell_type": "code",
   "execution_count": null,
   "metadata": {},
   "outputs": [],
   "source": []
  },
  {
   "cell_type": "code",
   "execution_count": null,
   "metadata": {},
   "outputs": [],
   "source": []
  }
 ],
 "metadata": {
  "anaconda-cloud": {},
  "kernelspec": {
   "display_name": "Python 3 (ipykernel)",
   "language": "python",
   "name": "python3"
  },
  "language_info": {
   "codemirror_mode": {
    "name": "ipython",
    "version": 3
   },
   "file_extension": ".py",
   "mimetype": "text/x-python",
   "name": "python",
   "nbconvert_exporter": "python",
   "pygments_lexer": "ipython3",
   "version": "3.9.7"
  }
 },
 "nbformat": 4,
 "nbformat_minor": 1
}
